{
 "cells": [
  {
   "cell_type": "markdown",
   "metadata": {},
   "source": [
    "### Building a Chatbot with multiple Tools using LangGraph"
   ]
  },
  {
   "cell_type": "code",
   "execution_count": 1,
   "metadata": {},
   "outputs": [],
   "source": [
    "from langchain_community.tools import ArxivQueryRun, WikipediaQueryRun\n",
    "from langchain_community.utilities import ArxivAPIWrapper, WikipediaAPIWrapper"
   ]
  },
  {
   "cell_type": "code",
   "execution_count": 5,
   "metadata": {},
   "outputs": [
    {
     "name": "stdout",
     "output_type": "stream",
     "text": [
      "arxiv\n"
     ]
    }
   ],
   "source": [
    "api_wraper_arxive = ArxivAPIWrapper(top_k_results=2, doc_content_chars_max=500)\n",
    "arxive = ArxivQueryRun(api_wrapper=api_wraper_arxive)\n",
    "print(arxive.name)"
   ]
  },
  {
   "cell_type": "code",
   "execution_count": 4,
   "metadata": {},
   "outputs": [
    {
     "name": "stdout",
     "output_type": "stream",
     "text": [
      "Published: 2023-05-23\n",
      "Title: Fast and energy-efficient non-volatile III-V-on-silicon photonic phase shifter based on memristors\n",
      "Authors: Zhuoran Fang, Bassem Tossoun, Antoine Descos, Di Liang, Xue Huang, Geza Kurczveil, Arka Majumdar, Raymond G. Beausoleil\n",
      "Summary: Silicon photonics has evolved from lab research to commercial products in the\n",
      "past decade as it plays an increasingly crucial role in data communication for\n",
      "next-generation data centers and high performance computing1. Recently,\n",
      "progr\n"
     ]
    }
   ],
   "source": [
    "print(arxive.run(\"What is the latest research on quantum computing?\"))"
   ]
  },
  {
   "cell_type": "code",
   "execution_count": 6,
   "metadata": {},
   "outputs": [
    {
     "data": {
      "text/plain": [
       "\"Published: 2024-07-22\\nTitle: Attention Is All You Need But You Don't Need All Of It For Inference of Large Language Models\\nAuthors: Georgy Tyukin, Gbetondji J-S Dovonon, Jean Kaddour, Pasquale Minervini\\nSummary: The inference demand for LLMs has skyrocketed in recent months, and serving\\nmodels with low latencies remains challenging due to the quadratic input length\\ncomplexity of the attention layers. In this work, we investigate the effect of\\ndropping MLP and attention layers at inference time o\""
      ]
     },
     "execution_count": 6,
     "metadata": {},
     "output_type": "execute_result"
    }
   ],
   "source": [
    "arxive.invoke(\"Attention is all you need\")"
   ]
  },
  {
   "cell_type": "code",
   "execution_count": 7,
   "metadata": {},
   "outputs": [
    {
     "name": "stdout",
     "output_type": "stream",
     "text": [
      "wikipedia\n"
     ]
    }
   ],
   "source": [
    "api_wraper_wiki = WikipediaAPIWrapper(top_k_results=1, doc_content_chars_max=500)\n",
    "wiki = WikipediaQueryRun(api_wrapper=api_wraper_wiki)\n",
    "print(wiki.name)"
   ]
  },
  {
   "cell_type": "code",
   "execution_count": 8,
   "metadata": {},
   "outputs": [
    {
     "name": "stdout",
     "output_type": "stream",
     "text": [
      "Page: Timeline of quantum computing and communication\n",
      "Summary: This is a timeline of quantum computing and communication.\n"
     ]
    }
   ],
   "source": [
    "print(wiki.run(\"What is the latest research on quantum computing?\"))"
   ]
  },
  {
   "cell_type": "code",
   "execution_count": 9,
   "metadata": {},
   "outputs": [
    {
     "data": {
      "text/plain": [
       "'Page: Attention Is All You Need\\nSummary: \"Attention Is All You Need\" is a 2017 landmark research paper in machine learning authored by eight scientists working at Google. The paper introduced a new deep learning architecture known as the transformer, based on the attention mechanism proposed in 2014 by Bahdanau et al. It is considered a foundational paper in modern artificial intelligence, and a main contributor to the AI boom, as the transformer approach has become the main architecture of a wi'"
      ]
     },
     "execution_count": 9,
     "metadata": {},
     "output_type": "execute_result"
    }
   ],
   "source": [
    "wiki.invoke(\"Attention is all you need\")"
   ]
  },
  {
   "cell_type": "code",
   "execution_count": 10,
   "metadata": {},
   "outputs": [
    {
     "data": {
      "text/plain": [
       "True"
      ]
     },
     "execution_count": 10,
     "metadata": {},
     "output_type": "execute_result"
    }
   ],
   "source": [
    "from dotenv import load_dotenv\n",
    "import os\n",
    "\n",
    "load_dotenv()"
   ]
  },
  {
   "cell_type": "code",
   "execution_count": 11,
   "metadata": {},
   "outputs": [],
   "source": [
    "os.environ[\"GROQ_API_KEY\"] = os.getenv(\"GROQ_API_KEY\")\n",
    "os.environ[\"TAVILY_API_KEY\"] = os.getenv(\"TAVILY_API_KEY\")"
   ]
  },
  {
   "cell_type": "code",
   "execution_count": 12,
   "metadata": {},
   "outputs": [
    {
     "name": "stderr",
     "output_type": "stream",
     "text": [
      "/var/folders/sh/gynb2lj96d7922pmjv2kbwjc0000gp/T/ipykernel_7099/735679136.py:3: LangChainDeprecationWarning: The class `TavilySearchResults` was deprecated in LangChain 0.3.25 and will be removed in 1.0. An updated version of the class exists in the :class:`~langchain-tavily package and should be used instead. To use it run `pip install -U :class:`~langchain-tavily` and import as `from :class:`~langchain_tavily import TavilySearch``.\n",
      "  tavily = TavilySearchResults()\n"
     ]
    }
   ],
   "source": [
    "from langchain_community.tools.tavily_search import TavilySearchResults\n",
    "\n",
    "tavily = TavilySearchResults()"
   ]
  },
  {
   "cell_type": "code",
   "execution_count": 13,
   "metadata": {},
   "outputs": [
    {
     "data": {
      "text/plain": [
       "[{'title': 'Latest Advancements in Quantum Computing Technology',\n",
       "  'url': 'https://quantaintelligence.ai/2024/10/12/technology/latest-advancements-in-quantum-computing-technology',\n",
       "  'content': 'Global research teams are collaborating to enhance error correction techniques and extend coherence times—the duration qubits maintain their quantum state. In 2023, scientists at the University of Chicago achieved a milestone by extending qubit coherence times to over five seconds, a significant improvement that brings us closer to practical quantum computing. [...] Recent advancements include the development of more stable qubits that operate at higher temperatures, enhanced error correction techniques, and significant improvements in qubit coherence times, such as the five-second milestone achieved by researchers at the University of Chicago.\\n\\nHow are tech companies investing in quantum computing? [...] The quantum computing landscape is evolving rapidly, with key breakthroughs marking its progress. Researchers have made substantial strides in creating more stable qubits that can operate at higher temperatures, a crucial factor for the scalability of quantum computers. This improved stability makes quantum systems more practical for larger applications.\\n\\nIBM Quantum Processor Eagle showcasing 127 qubits\\n\\nIBM Quantum Processor Eagle showcasing 127 qubits',\n",
       "  'score': 0.7837407},\n",
       " {'title': 'Quantum Technology Monitor 2025 | McKinsey',\n",
       "  'url': 'https://www.mckinsey.com/capabilities/mckinsey-digital/our-insights/the-year-of-quantum-from-concept-to-reality-in-2025',\n",
       "  'content': 'Our new research shows that the three core pillars of QTâ\\x80\\x94quantum computing, quantum communication, and quantum sensingâ\\x80\\x94could together generate up to $97 billion in revenue worldwide by 2035. Quantum computing will capture the bulk of that revenue, growing from $4 billion in revenue in 2024 to as much as $72 billion in 2035 (see sidebar â\\x80\\x9cWhat is quantum technology?â\\x80\\x9d). While QT will affect many industries, the chemicals, life sciences, finance, and mobility industries will see the most [...] Two late-stage start-ups, PsiQuantum and Quantinuum, received half of total investment in 2024, underscoring investorsâ\\x80\\x99 confidence that mature, established start-ups will continue to grow. Our research indicates this is already happening; quantum computing companies alone generated $650 million to $750 million in revenue in 2024 and are expected to surpass $1 billion in 2025. This revenue surge comes from continuous growth in the deployment of quantum hardware across private industry and the [...] With an eye to cementing early advantage in the QT sector, companies are patenting their breakthroughs. Our research shows a 13 percent increase in the number of QT patents granted in 2024 compared to a year earlier. IBM had the highest number (191), followed by Google with 168.',\n",
       "  'score': 0.7515939},\n",
       " {'title': 'MIT Report Describes Quantum Opportunities, Challenges',\n",
       "  'url': 'https://ide.mit.edu/insights/mit-report-describes-quantum-opportunities-challenges/',\n",
       "  'content': \"The recently released MIT Quantum Index Report 2025 explores the current state of quantum computing — including the technology's opportunities and challenges.\",\n",
       "  'score': 0.6824261},\n",
       " {'title': 'Quantum computing having a moment. But the technology is futuristic',\n",
       "  'url': 'https://www.cnbc.com/2025/06/27/quantum-computing-applications-how-it-works.html',\n",
       "  'content': 'Google says that researchers gave a computer random instructions to make a problem as complex under quantum mechanics as possible. Its researchers were then able to show that a quantum computer is faster at deciphering the quantum problem. Last year, Google said that its new, faster quantum computer Sycamore had expanded the performance gap.\\n\\nIn terms of future real-world applications, most of the potential for quantum computers is in the realms of medicine, chemistry and materials research.',\n",
       "  'score': 0.67885995},\n",
       " {'title': 'Quantum computing | MIT News | Massachusetts Institute of Technology',\n",
       "  'url': 'https://news.mit.edu/topic/quantum-computing',\n",
       "  'content': 'By emulating a magnetic field on a superconducting quantum computer, researchers can probe complex properties of materials.\\n\\nOctober 30, 2024\\n\\nRead full story →\\n\\nQuantum computer\\n\\n### Toward a code-breaking quantum computer\\n\\nBuilding on a landmark algorithm, researchers propose a way to make a smaller and more noise-tolerant quantum factoring circuit for cryptography.\\n\\nAugust 23, 2024\\n\\nRead full story → [...] Researchers achieved a type of coupling between artificial atoms and photons that could enable readout and processing of quantum information in a few nanoseconds.\\n\\nApril 30, 2025\\n\\nRead full story →\\n\\nPhoton traveling through curly processors\\n\\n### Device enables direct communication among multiple quantum processors\\n\\nMIT researchers developed a photon-shuttling “interconnect” that can facilitate remote entanglement, a key step toward a practical quantum computer.\\n\\nMarch 21, 2025 [...] The colorful assemblage of cables and circuits that make up a quantum computer are shown in close detail.\\n\\n### Testing spooky action at a distance\\n\\nA quantum computing research collaboration connects MIT with the University of Copenhagen.\\n\\nJuly 31, 2024\\n\\nRead full story →\\n\\nRendering shows the 4 layers of a semiconductor chip, with the top layer being a vibrant burst of light.\\n\\n### Modular, scalable hardware architecture for a quantum computer',\n",
       "  'score': 0.6765563}]"
      ]
     },
     "execution_count": 13,
     "metadata": {},
     "output_type": "execute_result"
    }
   ],
   "source": [
    "tavily.invoke(\"What is the latest research on quantum computing?\")"
   ]
  },
  {
   "cell_type": "code",
   "execution_count": 14,
   "metadata": {},
   "outputs": [
    {
     "data": {
      "text/plain": [
       "[{'title': 'A Daily Chronicle of AI Innovations in July 2025 - AI - IT ...',\n",
       "  'url': 'https://enoumen.com/2025/07/01/a-daily-chronicle-of-ai-innovations-in-july-2025/',\n",
       "  'content': 'A Daily Chronicle of AI Innovations in July 2025. Welcome to \"A Daily Chronicle of AI Innovations in July 2025\"—your go-to source for the latest breakthroughs, trends, and updates in artificial intelligence. Each day, we\\'ll bring you fresh insights into groundbreaking AI advancements, from cutting-edge research and new product launches to ethical debates and real-world applications.',\n",
       "  'score': 0.6562404},\n",
       " {'title': 'Latest AI News (July 1, 2025) - OpenTools',\n",
       "  'url': 'https://opentools.ai/news',\n",
       "  'content': 'Latest AI News: July 1, 2025 Stay informed with our daily curated artificial intelligence news and insights. We bring you the most important updates in AI, machine learning, and emerging technologies.',\n",
       "  'score': 0.6466616},\n",
       " {'title': 'Latest AI News:',\n",
       "  'url': 'https://opentools.ai/news/11-ai-trends-for-2025-prepare-for-the-future/2025',\n",
       "  'content': 'Latest AI News: June 27, 2025 Stay informed with our daily curated artificial intelligence news and insights. We bring you the most important updates in AI, machine learning, and emerging technologies.',\n",
       "  'score': 0.6366926},\n",
       " {'title': 'Artificial Intelligence (AI) News Updates: Latest News About Google AI ...',\n",
       "  'url': 'https://ai.economictimes.com/',\n",
       "  'content': 'Artificial Intelligence: Stay ahead of the curve with the latest Artificial Intelligence (AI) news and updates. Explore the advancements of Google AI, ChatGPT, Bard, and more.',\n",
       "  'score': 0.6353361},\n",
       " {'title': 'The Daily Tech Digest: 03 July 2025 | by Souren Stepanyan - Medium',\n",
       "  'url': 'https://medium.com/@sourenstepanyan/the-daily-tech-digest-03-july-2025-4b3281dcc10c',\n",
       "  'content': 'The field of Artificial Intelligence and Machine Learning continues its dynamic expansion, marked by significant advancements in model evaluation, application across diverse sectors, and strategic investments fostering future growth. These developments highlight AI’s increasing maturity and integration into industry and research. [...] In conclusion, today’s edition of the Daily Tech Digest for July 03, 2025, has provided a comprehensive overview of the significant developments across the technology landscape. We’ve seen continued rapid advancements in artificial intelligence and machine learning, with a strong focus on model efficiency, multimodal capabilities, and AI’s integration into productivity tools and robotics. The cybersecurity section highlighted critical vulnerabilities in widely used software and industrial [...] TranscribeGlass: AI for Real-Time Conversation and Social Cues: A device called TranscribeGlass is emerging with capabilities to subtitle conversations in nearly real time. It will soon also translate languages and even detect when the person you’re talking to is feeling socially awkward. This highlights significant advancements in real-time AI for accessibility and nuanced social interaction. Read more',\n",
       "  'score': 0.5993685}]"
      ]
     },
     "execution_count": 14,
     "metadata": {},
     "output_type": "execute_result"
    }
   ],
   "source": [
    "tavily.invoke(\"today new on AI developments and updates.\")"
   ]
  },
  {
   "cell_type": "code",
   "execution_count": 15,
   "metadata": {},
   "outputs": [],
   "source": [
    "### Tools\n",
    "\n",
    "tools = [arxive, wiki, tavily]"
   ]
  },
  {
   "cell_type": "code",
   "execution_count": 16,
   "metadata": {},
   "outputs": [],
   "source": [
    "## Initialize my LLM model\n",
    "\n",
    "from langchain_groq import ChatGroq\n",
    "\n",
    "llm=ChatGroq(model=\"qwen-qwq-32b\")\n",
    "\n",
    "llm_with_tools=llm.bind_tools(tools)"
   ]
  },
  {
   "cell_type": "code",
   "execution_count": 20,
   "metadata": {},
   "outputs": [
    {
     "data": {
      "text/plain": [
       "AIMessage(content='', additional_kwargs={'reasoning_content': 'Okay, the user is asking for recent news on the US economy. I need to figure out the best way to get that information. Let me look at the available tools. There\\'s the arxiv function, but that\\'s more for academic papers, right? Probably not the best for recent news. Wikipedia is for encyclopedic entries, so that\\'s not实时 information either. The Tavily search results function seems like the way to go since it\\'s a search engine that can provide current news. I should call Tavily with the query \"recent news US economy\" to get the latest updates. Let me make sure the parameters are correct. The function requires a query, so I\\'ll format that properly in the tool call.\\n', 'tool_calls': [{'id': 'ndjr353w1', 'function': {'arguments': '{\"query\":\"recent news US economy\"}', 'name': 'tavily_search_results_json'}, 'type': 'function'}]}, response_metadata={'token_usage': {'completion_tokens': 179, 'prompt_tokens': 268, 'total_tokens': 447, 'completion_time': 0.438614761, 'prompt_time': 0.016900561, 'queue_time': 0.160713471, 'total_time': 0.455515322}, 'model_name': 'qwen-qwq-32b', 'system_fingerprint': 'fp_98b01f25b2', 'finish_reason': 'tool_calls', 'logprobs': None}, id='run--1aff9396-fc29-46c3-b1fd-f6711ab5bd63-0', tool_calls=[{'name': 'tavily_search_results_json', 'args': {'query': 'recent news US economy'}, 'id': 'ndjr353w1', 'type': 'tool_call'}], usage_metadata={'input_tokens': 268, 'output_tokens': 179, 'total_tokens': 447})"
      ]
     },
     "execution_count": 20,
     "metadata": {},
     "output_type": "execute_result"
    }
   ],
   "source": [
    "from langchain_core.messages import AIMessage, HumanMessage\n",
    "llm_with_tools.invoke([HumanMessage(content=f\"Recent news on US economy?\")])"
   ]
  },
  {
   "cell_type": "code",
   "execution_count": 21,
   "metadata": {},
   "outputs": [
    {
     "data": {
      "text/plain": [
       "[{'name': 'tavily_search_results_json',\n",
       "  'args': {'query': 'US economy latest news updates'},\n",
       "  'id': 'megq4n1cf',\n",
       "  'type': 'tool_call'}]"
      ]
     },
     "execution_count": 21,
     "metadata": {},
     "output_type": "execute_result"
    }
   ],
   "source": [
    "llm_with_tools.invoke([HumanMessage(content=f\"Recent news on US economy?\")]).tool_calls"
   ]
  },
  {
   "cell_type": "code",
   "execution_count": 22,
   "metadata": {},
   "outputs": [],
   "source": [
    "### State Schema\n",
    "from typing_extensions import TypedDict\n",
    "from langchain_core.messages import AnyMessage\n",
    "from typing import Annotated\n",
    "from langgraph.graph.message import add_messages"
   ]
  },
  {
   "cell_type": "code",
   "execution_count": 23,
   "metadata": {},
   "outputs": [],
   "source": [
    "class statclasss(TypedDict):\n",
    "    messages: Annotated[list[AnyMessage], add_messages]"
   ]
  },
  {
   "cell_type": "code",
   "execution_count": 25,
   "metadata": {},
   "outputs": [
    {
     "data": {
      "image/png": "[encoded data removed]",
      "text/plain": [
       "<IPython.core.display.Image object>"
      ]
     },
     "metadata": {},
     "output_type": "display_data"
    }
   ],
   "source": [
    "### Chatbot\n",
    "\n",
    "from IPython.display import Image, display\n",
    "from langgraph.graph import StateGraph, START, END\n",
    "from langgraph.prebuilt import ToolNode, tools_condition\n",
    "\n",
    "### Defining node\n",
    "\n",
    "def tool_calling_llm(stat:statclasss):\n",
    "    return {\"messages\": [llm_with_tools.invoke(stat[\"messages\"])]}\n",
    "\n",
    "### Building the Graph\n",
    "builder = StateGraph(statclasss)\n",
    "\n",
    "builder.add_node(\"tool_calling_llm\", tool_calling_llm)\n",
    "builder.add_node(\"tools\", ToolNode(tools))\n",
    "\n",
    "builder.add_edge(START, \"tool_calling_llm\")\n",
    "builder.add_conditional_edges(\"tool_calling_llm\", tools_condition)\n",
    "builder.add_edge(\"tools\", END)\n",
    "\n",
    "graph = builder.compile()\n",
    "\n",
    "display(Image(graph.get_graph().draw_mermaid_png()))\n"
   ]
  },
  {
   "cell_type": "code",
   "execution_count": 26,
   "metadata": {},
   "outputs": [
    {
     "name": "stdout",
     "output_type": "stream",
     "text": [
      "================================\u001b[1m Human Message \u001b[0m=================================\n",
      "\n",
      "1706.03762\n",
      "==================================\u001b[1m Ai Message \u001b[0m==================================\n",
      "Tool Calls:\n",
      "  arxiv (yz1z0k3qq)\n",
      " Call ID: yz1z0k3qq\n",
      "  Args:\n",
      "    query: 1706.03762\n",
      "=================================\u001b[1m Tool Message \u001b[0m=================================\n",
      "Name: arxiv\n",
      "\n",
      "Published: 2023-08-02\n",
      "Title: Attention Is All You Need\n",
      "Authors: Ashish Vaswani, Noam Shazeer, Niki Parmar, Jakob Uszkoreit, Llion Jones, Aidan N. Gomez, Lukasz Kaiser, Illia Polosukhin\n",
      "Summary: The dominant sequence transduction models are based on complex recurrent or\n",
      "convolutional neural networks in an encoder-decoder configuration. The best\n",
      "performing models also connect the encoder and decoder through an attention\n",
      "mechanism. We propose a new simple network architecture, the Transformer, base\n"
     ]
    }
   ],
   "source": [
    "messages=graph.invoke({\"messages\":HumanMessage(content=\"1706.03762\")})\n",
    "for m in messages['messages']:\n",
    "    m.pretty_print()\n"
   ]
  },
  {
   "cell_type": "code",
   "execution_count": 27,
   "metadata": {},
   "outputs": [
    {
     "name": "stdout",
     "output_type": "stream",
     "text": [
      "================================\u001b[1m Human Message \u001b[0m=================================\n",
      "\n",
      "Provide me the top 10 recent AI news for MArch 3rd 2025\n",
      "==================================\u001b[1m Ai Message \u001b[0m==================================\n",
      "Tool Calls:\n",
      "  tavily_search_results_json (211ft69ha)\n",
      " Call ID: 211ft69ha\n",
      "  Args:\n",
      "    query: top 10 recent AI news articles from March 3rd 2025\n",
      "=================================\u001b[1m Tool Message \u001b[0m=================================\n",
      "Name: tavily_search_results_json\n",
      "\n",
      "[{\"title\": \"March 2025-Breakthrough Models, and agentic AI - coglist.com\", \"url\": \"https://coglist.com/issue/ai-news-in-march-2025\", \"content\": \"March 2025: AI's Regulatory Surge, Breakthrough Models, and the Rise of Autonomous Agents March 2025 was a dynamic month for artificial intelligence, with significant developments ranging from regulatory efforts to technological breakthroughs. Below, we've compiled the top 10 AI news events, each backed by reliable sources for verification.\", \"score\": 0.94475573}, {\"title\": \"10 Trending Stories in AI from March 2025 - Fusion Chat\", \"url\": \"https://fusionchat.ai/news/10-trending-stories-in-ai-from-march-2025\", \"content\": \"Explore the latest AI insights from March 2025, including Google's AI updates, Anthropic's fundraising, and innovative AI tools.\", \"score\": 0.921929}, {\"title\": \"Ai News: Latest Innovations and Trends\", \"url\": \"https://aifamelee.io/ai-news-march-3-2025/\", \"content\": \"AI News Today: March 3, 2025 - Top Stories in Artificial Intelligence The world of artificial intelligence never slows down, and today's headlines highlight some of the most exciting developments in the industry. From groundbreaking product launches to strategic investments, here's your roundup of the latest AI news for March 3, 2025.\", \"score\": 0.921591}, {\"title\": \"[AI Weekly] Top 10 AI Breakthroughs You Missed This Week (March ...\", \"url\": \"https://yukitaylor00.medium.com/ai-weekly-top-10-ai-breakthroughs-you-missed-this-week-march-2025-1d742259e5b8\", \"content\": \"Sign up\\n\\nSign in\\n\\nSign up\\n\\nSign in\\n\\n# [AI Weekly] Top 10 AI Breakthroughs You Missed This Week (March 2025)\\n\\n## Explore this week’s most exciting AI news — from OpenAI’s new image generator to Google Gemini 2.5 and Alibaba’s 3D avatar model. A must-read for AI professionals.\\n\\nYuki\\n\\n--\\n\\nListen\\n\\nShare\\n\\n# What a Week in AI: March 2025 Breakthroughs from OpenAI, Google, Alibaba, and More [...] The final week of March 2025 may be remembered as a turning point in AI development history. A wave of releases from OpenAI, Google, Alibaba, Microsoft, and emerging players introduced groundbreaking advances across image generation, AGI benchmarking, multimodal models, and research automation. The sheer breadth and impact of these announcements reflect a rapidly accelerating pace in the AI race, with serious implications for developers, creators, and enterprises alike.\", \"score\": 0.9057319}, {\"title\": \"Breaking AI News: March 2025 Updates | AI SEO Insights\", \"url\": \"https://aiseoinsights.com/en/posts/breaking-ai-news-march-2025-updates/\", \"content\": \"AI SEO Insights\\nAI SEO Insights\\n\\n# Breaking AI News: March 2025 Updates\\n\\nLatest AI news and updates\\n\\n# Breaking AI News: March 2025 Industry Updates and Innovations\\n\\nStay ahead of the curve with our comprehensive roundup of the most significant AI developments and news from March 2025. From groundbreaking research to industry-shifting implementations, we cover the latest innovations shaping the future of AI.\\n\\n## Major AI Breakthroughs\\n\\n### 1. Advanced Language Models [...] Google has announced its latest language model, achieving unprecedented accuracy in understanding context and generating human-like responses. Key highlights:\\n\\n### 2. AI in Healthcare\\n\\nA revolutionary AI system has been approved for early cancer detection:\\n\\n## Industry Implementations\\n\\n### 1. Retail Revolution\\n\\nAmazon’s new AI-powered shopping experience:\\n\\n### 2. Financial Services\\n\\nBanking sector transformation with AI:\\n\\n## Policy and Regulation Updates\\n\\n### New AI Governance Framework\", \"score\": 0.88822687}]\n"
     ]
    }
   ],
   "source": [
    "messages=graph.invoke({\"messages\":HumanMessage(content=\"Provide me the top 10 recent AI news for MArch 3rd 2025\")})\n",
    "for m in messages['messages']:\n",
    "    m.pretty_print()"
   ]
  },
  {
   "cell_type": "code",
   "execution_count": 28,
   "metadata": {},
   "outputs": [
    {
     "name": "stdout",
     "output_type": "stream",
     "text": [
      "================================\u001b[1m Human Message \u001b[0m=================================\n",
      "\n",
      "What is machine learning\n",
      "==================================\u001b[1m Ai Message \u001b[0m==================================\n",
      "Tool Calls:\n",
      "  wikipedia (kdag4jzav)\n",
      " Call ID: kdag4jzav\n",
      "  Args:\n",
      "    query: Machine learning\n",
      "=================================\u001b[1m Tool Message \u001b[0m=================================\n",
      "Name: wikipedia\n",
      "\n",
      "Page: Machine learning\n",
      "Summary: Machine learning (ML) is a field of study in artificial intelligence concerned with the development and study of statistical algorithms that can learn from data and generalise to unseen data, and thus perform tasks without explicit instructions. Within a subdiscipline in machine learning, advances in the field of deep learning have allowed neural networks, a class of statistical algorithms, to surpass many previous machine learning approaches in performance.\n",
      "ML fi\n"
     ]
    }
   ],
   "source": [
    "messages=graph.invoke({\"messages\":HumanMessage(content=\"What is machine learning\")})\n",
    "for m in messages['messages']:\n",
    "    m.pretty_print()"
   ]
  },
  {
   "cell_type": "code",
   "execution_count": null,
   "metadata": {},
   "outputs": [],
   "source": []
  }
 ],
 "metadata": {
  "kernelspec": {
   "display_name": "Python 3",
   "language": "python",
   "name": "python3"
  },
  "language_info": {
   "codemirror_mode": {
    "name": "ipython",
    "version": 3
   },
   "file_extension": ".py",
   "mimetype": "text/x-python",
   "name": "python",
   "nbconvert_exporter": "python",
   "pygments_lexer": "ipython3",
   "version": "3.12.0"
  }
 },
 "nbformat": 4,
 "nbformat_minor": 2
}
